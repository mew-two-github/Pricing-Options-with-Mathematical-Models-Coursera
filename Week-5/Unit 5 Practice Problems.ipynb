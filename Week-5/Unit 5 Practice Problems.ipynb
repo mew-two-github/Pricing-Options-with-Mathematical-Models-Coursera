{
 "cells": [
  {
   "cell_type": "markdown",
   "metadata": {},
   "source": [
    "<h2> Practice Problems </h2>"
   ]
  },
  {
   "cell_type": "markdown",
   "metadata": {},
   "source": [
    "p and 1- p <br>\n",
    "E( S(t)/S(t-1) ) = 1.01 <br>\n",
    "p * (u - 1) + (1 - p ) * (d - 1 ) = 0.01 <br>\n",
    "p * (u - 1)^2 + (1 - p ) * (d - 1 )^2= 0.0189+0.0001 <br>\n",
    "Solve by substituting u -1 in equation-2"
   ]
  },
  {
   "cell_type": "code",
   "execution_count": 5,
   "metadata": {},
   "outputs": [
    {
     "name": "stdout",
     "output_type": "stream",
     "text": [
      "1.1 0.7\n"
     ]
    }
   ],
   "source": [
    "# Q1, Q2\n",
    "p = 0.0441/0.063\n",
    "u = (0.01 + 0.2*( 1 - p ))/p + 1\n",
    "print(u,p)"
   ]
  },
  {
   "cell_type": "code",
   "execution_count": 21,
   "metadata": {},
   "outputs": [
    {
     "name": "stdout",
     "output_type": "stream",
     "text": [
      "A =  [[  1.005 101.   ]\n",
      " [  1.005  99.   ]]\n",
      "b =  [0 1]\n",
      "delta =  [50.24875622 -0.5       ]\n"
     ]
    }
   ],
   "source": [
    "# Q3\n",
    "import numpy as np\n",
    "A = np.array([[1.005, 101],[1.005,99]])\n",
    "b = np.array([0,1])\n",
    "delta = np.linalg.solve( A,b )\n",
    "print(\"A = \", A )\n",
    "print(\"b = \", b )\n",
    "print(\"delta = \", delta )"
   ]
  },
  {
   "cell_type": "code",
   "execution_count": 22,
   "metadata": {},
   "outputs": [
    {
     "name": "stdout",
     "output_type": "stream",
     "text": [
      "0.24875621890547706\n"
     ]
    }
   ],
   "source": [
    "# Q4\n",
    "Cost = delta[0] + delta[1]*100\n",
    "print(Cost)"
   ]
  },
  {
   "cell_type": "markdown",
   "metadata": {},
   "source": [
    "### Q5 <br>\n",
    "1 = 3p + 4q + 5(1-p-q) <br>\n",
    "3 = 6p + 8q + 10(1-p-q) <br>\n",
    "No solution"
   ]
  },
  {
   "cell_type": "markdown",
   "metadata": {},
   "source": [
    "### Q6\n",
    "No arbitrage means at least on EMM exists. So there must be arbitrage.\n",
    "Buy S1, Short S2"
   ]
  },
  {
   "cell_type": "code",
   "execution_count": 19,
   "metadata": {},
   "outputs": [
    {
     "name": "stdout",
     "output_type": "stream",
     "text": [
      "A =  [[1.02525125 1.76234168]\n",
      " [1.02525125 1.44763781]\n",
      " [1.02525125 1.18913106]\n",
      " [1.02525125 0.97678623]\n",
      " [1.02525125 0.80236012]\n",
      " [1.02525125 0.65908152]]\n",
      "b =  [1000    0    0    0    0   40]\n",
      "delta =  [-520.35897895  870.14834289]\n",
      "349.78936394280583\n"
     ]
    }
   ],
   "source": [
    "# Q7\n",
    "A = np.array([ [(1.005)**5, (1.12)**(5)], [(1.005)**5, (1.12)**(4)*(0.92)**(1)], [(1.005)**5, (1.12)**(3)*(0.92)**(2)],\n",
    "               [(1.005)**5, (1.12)**(2)*(0.92)**(3)], [(1.005)**5, (1.12)**(1)*(0.92)**(4)], [(1.005)**5, (0.92)**(5)]])\n",
    "b = np.array([1000,0,0,0,0,40])\n",
    "# delta = np.linalg.solve( A,b )\n",
    "print(\"A = \", A )\n",
    "print(\"b = \", b )\n",
    "A = np.array([ [(1.005)**5, (1.12)**(5)], [(1.005)**5, (0.92)**(5)]])\n",
    "b = np.array([1000,40])\n",
    "delta = np.linalg.solve( A,b )\n",
    "print(\"delta = \", delta )\n",
    "Cost = delta[0] + delta[1]\n",
    "print(Cost)\n",
    "# wrong because correct cashflows not imposed"
   ]
  },
  {
   "cell_type": "code",
   "execution_count": null,
   "metadata": {},
   "outputs": [],
   "source": [
    "# Q8"
   ]
  }
 ],
 "metadata": {
  "kernelspec": {
   "display_name": "Python 3",
   "language": "python",
   "name": "python3"
  },
  "language_info": {
   "codemirror_mode": {
    "name": "ipython",
    "version": 3
   },
   "file_extension": ".py",
   "mimetype": "text/x-python",
   "name": "python",
   "nbconvert_exporter": "python",
   "pygments_lexer": "ipython3",
   "version": "3.7.3"
  }
 },
 "nbformat": 4,
 "nbformat_minor": 4
}
