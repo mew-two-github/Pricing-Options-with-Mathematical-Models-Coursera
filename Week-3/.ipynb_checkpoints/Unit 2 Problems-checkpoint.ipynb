{
 "cells": [
  {
   "cell_type": "markdown",
   "metadata": {},
   "source": [
    "<h2>Practice Problems</h2>"
   ]
  },
  {
   "cell_type": "code",
   "execution_count": 2,
   "metadata": {},
   "outputs": [
    {
     "name": "stdout",
     "output_type": "stream",
     "text": [
      "1.02 94.23223345470444\n"
     ]
    }
   ],
   "source": [
    "# Q1\n",
    "comp_r = (1 + 0.08/4)\n",
    "FV = 100\n",
    "PV = FV/((comp_r)**3)\n",
    "print(comp_r,PV)"
   ]
  },
  {
   "cell_type": "code",
   "execution_count": 3,
   "metadata": {},
   "outputs": [
    {
     "name": "stdout",
     "output_type": "stream",
     "text": [
      "1.0194265469082735 94.39134693595125\n"
     ]
    }
   ],
   "source": [
    "# Q2\n",
    "FV = 100\n",
    "comp_r = (1.08)**(1/4)\n",
    "PV = FV/((comp_r)**3)\n",
    "print(comp_r,PV)"
   ]
  },
  {
   "cell_type": "code",
   "execution_count": 6,
   "metadata": {},
   "outputs": [
    {
     "name": "stdout",
     "output_type": "stream",
     "text": [
      "1.0194265469082735 94.17645335842487\n"
     ]
    }
   ],
   "source": [
    "# Q3\n",
    "import math\n",
    "FV = 100\n",
    "PV = FV/math.exp(0.08*0.75)\n",
    "print(comp_r,PV)"
   ]
  },
  {
   "cell_type": "code",
   "execution_count": 11,
   "metadata": {},
   "outputs": [
    {
     "name": "stdout",
     "output_type": "stream",
     "text": [
      "0.04166666666666674 0.05566719197800074\n",
      "0.06273786264811432\n"
     ]
    }
   ],
   "source": [
    "# Q7\n",
    "r1 = 100/96  - 1\n",
    "r3 = (100/85)**(1/3) - 1\n",
    "print( r1, r3 )\n",
    "f23 = math.sqrt((r3+1)**3/(r1+1) ) - 1\n",
    "print(f23)"
   ]
  },
  {
   "cell_type": "code",
   "execution_count": 20,
   "metadata": {},
   "outputs": [
    {
     "name": "stdout",
     "output_type": "stream",
     "text": [
      "507.1332920808905\n",
      "50000 51499.2302278578\n",
      "1499.230227857799\n"
     ]
    }
   ],
   "source": [
    "# Q5\n",
    "V = 50000\n",
    "APR = 0.09\n",
    "n = 12\n",
    "m = 15*n\n",
    "X = V*(APR/n)*(1 + APR/n)**m/((1+APR/n)**m - 1)\n",
    "r = 0.085\n",
    "Vactual = X/( (r/n))*(1 - 1/(1+r/n)**m) \n",
    "Fees = Vactual - V\n",
    "print(X)\n",
    "print(V,Vactual)\n",
    "print(Fees)"
   ]
  },
  {
   "cell_type": "code",
   "execution_count": null,
   "metadata": {},
   "outputs": [],
   "source": []
  },
  {
   "cell_type": "markdown",
   "metadata": {},
   "source": [
    "<h2>Assignment</h2>"
   ]
  },
  {
   "cell_type": "code",
   "execution_count": 1,
   "metadata": {},
   "outputs": [
    {
     "name": "stdout",
     "output_type": "stream",
     "text": [
      "1.015 95.63169937410252\n"
     ]
    }
   ],
   "source": [
    "# Q1\n",
    "comp_r = (1 + 0.06/4)\n",
    "FV = 100\n",
    "PV = FV/((comp_r)**3)\n",
    "print(comp_r,PV)"
   ]
  },
  {
   "cell_type": "code",
   "execution_count": 2,
   "metadata": {},
   "outputs": [
    {
     "name": "stdout",
     "output_type": "stream",
     "text": [
      "1.0146738461686593 95.72394775176029\n"
     ]
    }
   ],
   "source": [
    "# Q2\n",
    "FV = 100\n",
    "comp_r = (1.06)**(1/4)\n",
    "PV = FV/((comp_r)**3)\n",
    "print(comp_r,PV)"
   ]
  },
  {
   "cell_type": "code",
   "execution_count": 3,
   "metadata": {},
   "outputs": [
    {
     "name": "stdout",
     "output_type": "stream",
     "text": [
      "1.0146738461686593 95.59974818330998\n"
     ]
    }
   ],
   "source": [
    "# Q3\n",
    "import math\n",
    "FV = 100\n",
    "PV = FV/math.exp(0.06*0.75)\n",
    "print(comp_r,PV)"
   ]
  },
  {
   "cell_type": "code",
   "execution_count": 4,
   "metadata": {},
   "outputs": [
    {
     "name": "stdout",
     "output_type": "stream",
     "text": [
      "0.020408163265306145 0.026690096080340897\n",
      "0.02879265605286152\n"
     ]
    }
   ],
   "source": [
    "# Q7\n",
    "r1 = 100/98  - 1\n",
    "r4 = (100/90)**(1/4) - 1\n",
    "print( r1, r4 )\n",
    "f23 = ((r4+1)**4/(r1+1) )**(1/3) - 1\n",
    "print(f23)"
   ]
  },
  {
   "cell_type": "code",
   "execution_count": 12,
   "metadata": {},
   "outputs": [
    {
     "name": "stdout",
     "output_type": "stream",
     "text": [
      "3193.294090123257\n",
      "500000 532614.6765211574\n",
      "32614.67652115738\n"
     ]
    }
   ],
   "source": [
    "# Q5\n",
    "V = 500000\n",
    "APR = 0.066\n",
    "n = 12\n",
    "m = 30*n\n",
    "X = V*(APR/n)*(1 + APR/n)**m/((1+APR/n)**m - 1)\n",
    "r = 0.06\n",
    "Vactual = X/( (r/n))*(1 - 1/(1+r/n)**m) \n",
    "Fees = Vactual - V\n",
    "print(X)\n",
    "print(V,Vactual)\n",
    "print(Fees)"
   ]
  },
  {
   "cell_type": "code",
   "execution_count": 13,
   "metadata": {},
   "outputs": [
    {
     "name": "stdout",
     "output_type": "stream",
     "text": [
      "0.9523809523809523 0.047619047619047616 94.38095238095237\n",
      "cashflow after 6 months =  0.0\n",
      "cashflow after 1 year =  100.0\n"
     ]
    }
   ],
   "source": [
    "# Q6\n",
    "# units of 1 year bond (buy)\n",
    "n1 = 1/1.05\n",
    "# units of 6 month bond (sell) \n",
    "n2 = 5/1.05/100\n",
    "# cost of  year bond that pays 100 at maturity\n",
    "c = n1*104 - n2*98\n",
    "print(n1,n2,c)\n",
    "print(\"cashflow after 6 months = \", n1*5 - n2*100)\n",
    "print(\"cashflow after 1 year = \", n1*105)"
   ]
  },
  {
   "cell_type": "code",
   "execution_count": 14,
   "metadata": {},
   "outputs": [
    {
     "name": "stdout",
     "output_type": "stream",
     "text": [
      "8525.823823852701 8164.054908542033 361.7689153106676\n"
     ]
    }
   ],
   "source": [
    "# Q4\n",
    "r = 0.04\n",
    "f = 1 + r/4\n",
    "PV_a = 6000 + 5500/(f) + 5500/(f)**2 - 9000/(f)**(8)\n",
    "PV_b = 6500 + 6000/(f) + 6000/(f)**2 - 11000/(f)**(8)\n",
    "print(PV_a,PV_b,PV_a - PV_b)"
   ]
  },
  {
   "cell_type": "code",
   "execution_count": null,
   "metadata": {},
   "outputs": [],
   "source": []
  }
 ],
 "metadata": {
  "kernelspec": {
   "display_name": "Python 3",
   "language": "python",
   "name": "python3"
  },
  "language_info": {
   "codemirror_mode": {
    "name": "ipython",
    "version": 3
   },
   "file_extension": ".py",
   "mimetype": "text/x-python",
   "name": "python",
   "nbconvert_exporter": "python",
   "pygments_lexer": "ipython3",
   "version": "3.7.3"
  }
 },
 "nbformat": 4,
 "nbformat_minor": 4
}
