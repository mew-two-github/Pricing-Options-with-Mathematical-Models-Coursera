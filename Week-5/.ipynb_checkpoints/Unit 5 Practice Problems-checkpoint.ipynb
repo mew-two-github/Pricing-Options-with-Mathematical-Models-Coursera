{
 "cells": [
  {
   "cell_type": "markdown",
   "metadata": {},
   "source": [
    "<h2> Practice Problems </h2>"
   ]
  },
  {
   "cell_type": "markdown",
   "metadata": {},
   "source": [
    "p and 1- p <br>\n",
    "E( S(t)/S(t-1) ) = 1.01 <br>\n",
    "p * (u - 1) + (1 - p ) * (d - 1 ) = 0.01 <br>\n",
    "p * (u - 1)^2 + (1 - p ) * (d - 1 )^2= 0.0189+0.0001 <br>\n",
    "Solve by substituting u -1 in equation-2"
   ]
  },
  {
   "cell_type": "code",
   "execution_count": 5,
   "metadata": {},
   "outputs": [
    {
     "name": "stdout",
     "output_type": "stream",
     "text": [
      "1.1 0.7\n"
     ]
    }
   ],
   "source": [
    "# Q1\n",
    "p = 0.0441/0.063\n",
    "u = (0.01 + 0.2*( 1 - p ))/p + 1\n",
    "print(u,p)"
   ]
  },
  {
   "cell_type": "code",
   "execution_count": null,
   "metadata": {},
   "outputs": [],
   "source": []
  },
  {
   "cell_type": "code",
   "execution_count": null,
   "metadata": {},
   "outputs": [],
   "source": []
  }
 ],
 "metadata": {
  "kernelspec": {
   "display_name": "Python 3",
   "language": "python",
   "name": "python3"
  },
  "language_info": {
   "codemirror_mode": {
    "name": "ipython",
    "version": 3
   },
   "file_extension": ".py",
   "mimetype": "text/x-python",
   "name": "python",
   "nbconvert_exporter": "python",
   "pygments_lexer": "ipython3",
   "version": "3.7.3"
  }
 },
 "nbformat": 4,
 "nbformat_minor": 4
}
