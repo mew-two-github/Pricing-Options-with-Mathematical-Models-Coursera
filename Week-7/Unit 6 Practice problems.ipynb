{
  "cells": [
    {
      "cell_type": "markdown",
      "metadata": {
        "id": "view-in-github",
        "colab_type": "text"
      },
      "source": [
        "<a href=\"https://colab.research.google.com/github/mew-two-github/Pricing-Options-with-Mathematical-Models-Coursera/blob/master/Week-7/Unit%206%20Practice%20problems.ipynb\" target=\"_parent\"><img src=\"https://colab.research.google.com/assets/colab-badge.svg\" alt=\"Open In Colab\"/></a>"
      ]
    },
    {
      "cell_type": "code",
      "execution_count": 2,
      "metadata": {
        "id": "JRtYITLHLc3u"
      },
      "outputs": [],
      "source": [
        "import numpy as np"
      ]
    },
    {
      "cell_type": "markdown",
      "metadata": {
        "id": "Q1akK0ltLc3v"
      },
      "source": [
        "### Q1"
      ]
    },
    {
      "cell_type": "code",
      "execution_count": 3,
      "metadata": {
        "id": "GzcorGaaLc3w"
      },
      "outputs": [],
      "source": [
        "T = 3/12\n",
        "s = 2\n",
        "V = s**2*np.exp(2*(T))"
      ]
    },
    {
      "cell_type": "code",
      "execution_count": 4,
      "metadata": {
        "id": "8PLTL47vLc3w",
        "outputId": "1b4942a8-353b-44d3-df9e-8a39a627e711",
        "colab": {
          "base_uri": "https://localhost:8080/"
        }
      },
      "outputs": [
        {
          "output_type": "stream",
          "name": "stdout",
          "text": [
            "6.594885082800513\n"
          ]
        }
      ],
      "source": [
        "print(V)"
      ]
    },
    {
      "cell_type": "markdown",
      "metadata": {
        "id": "Qnyf-8U7Lc3x"
      },
      "source": [
        "### Q2"
      ]
    },
    {
      "cell_type": "code",
      "execution_count": 9,
      "metadata": {
        "id": "oqu026XzLc3x"
      },
      "outputs": [],
      "source": [
        "# Use BS PDE. It is valid at any time but we know S only at current time, so we pick t = current time\n",
        "C = s**2*np.exp(2*T)\n",
        "Ct = -2*s**2*np.exp(2*T)\n",
        "Cs = 2*s\n",
        "Css = 2*np.exp(2*T)\n",
        "r = 0\n",
        "sigma = (-2*Ct/Css)**(0.5)/s"
      ]
    },
    {
      "cell_type": "code",
      "execution_count": 10,
      "metadata": {
        "id": "nOCmGwAXLc3y",
        "outputId": "4bc01704-de31-470a-afe4-34da1fa8ed73",
        "colab": {
          "base_uri": "https://localhost:8080/"
        }
      },
      "outputs": [
        {
          "output_type": "stream",
          "name": "stdout",
          "text": [
            "6.594885082800513 -13.189770165601026 4 3.2974425414002564 0\n",
            "1.4142135623730951\n"
          ]
        }
      ],
      "source": [
        "print(C,Ct,Cs,Css,r)\n",
        "print(sigma)"
      ]
    },
    {
      "cell_type": "code",
      "execution_count": 10,
      "metadata": {
        "id": "MG-3RN0ULc3y"
      },
      "outputs": [],
      "source": []
    },
    {
      "cell_type": "markdown",
      "source": [
        "### Q3"
      ],
      "metadata": {
        "id": "I0AKoO2ULuj0"
      }
    },
    {
      "cell_type": "code",
      "execution_count": null,
      "metadata": {
        "id": "-pl2BzPnLc3z"
      },
      "outputs": [],
      "source": [
        "s_T = 2\n",
        "V = s_T**2"
      ]
    },
    {
      "cell_type": "code",
      "execution_count": null,
      "metadata": {
        "id": "b8N_5sd3Lc3z",
        "outputId": "37be626d-2fd0-4ea0-d8d8-db2bd678188c"
      },
      "outputs": [
        {
          "name": "stdout",
          "output_type": "stream",
          "text": [
            "4\n"
          ]
        }
      ],
      "source": [
        "print(V)"
      ]
    },
    {
      "cell_type": "markdown",
      "source": [
        "### Q4"
      ],
      "metadata": {
        "id": "2lz8fTM9LxfP"
      }
    },
    {
      "cell_type": "code",
      "execution_count": 11,
      "metadata": {
        "id": "VeQsqdPMLc30"
      },
      "outputs": [],
      "source": [
        "s = 100\n",
        "K = 100\n",
        "r = 0.05\n",
        "sigma = 0.2\n",
        "T = 0.5\n",
        "d1 = (np.log(s/K) + (r + sigma**2/2)*T)/(sigma*(T**0.5))\n",
        "d2 = d1 - sigma*(T**0.5)"
      ]
    },
    {
      "cell_type": "code",
      "execution_count": 12,
      "metadata": {
        "id": "yMyPb1lOLc30"
      },
      "outputs": [],
      "source": [
        "from scipy.stats import norm\n",
        "c = s*norm.cdf(d1) - K*np.exp(-r*T)*norm.cdf(d2)"
      ]
    },
    {
      "cell_type": "code",
      "execution_count": 13,
      "metadata": {
        "id": "wgosOurrLc30",
        "outputId": "a51f865e-ea33-4a07-971a-27cdeeaf084a",
        "colab": {
          "base_uri": "https://localhost:8080/"
        }
      },
      "outputs": [
        {
          "output_type": "stream",
          "name": "stdout",
          "text": [
            "6.888728577680624\n"
          ]
        }
      ],
      "source": [
        "print(c)"
      ]
    },
    {
      "cell_type": "code",
      "execution_count": null,
      "metadata": {
        "id": "O3t8wB7BLc30"
      },
      "outputs": [],
      "source": [
        "### Q5"
      ]
    },
    {
      "cell_type": "code",
      "execution_count": null,
      "metadata": {
        "id": "PXCArvw1Lc30"
      },
      "outputs": [],
      "source": [
        "# We want C to be higher => if Css is positive, higher coeff and if it is negative, lower coeff"
      ]
    },
    {
      "cell_type": "code",
      "execution_count": null,
      "metadata": {
        "id": "hUsMpq0bLc30"
      },
      "outputs": [],
      "source": []
    },
    {
      "cell_type": "markdown",
      "source": [
        "### Q9"
      ],
      "metadata": {
        "id": "1WU2pwdRYgjO"
      }
    },
    {
      "cell_type": "code",
      "execution_count": 16,
      "metadata": {
        "id": "zHdCsEieLc30"
      },
      "outputs": [],
      "source": [
        "mu = 0.07\n",
        "sigma = 0.3\n",
        "T = 0.5\n",
        "S0 = 100\n",
        "K = 100"
      ]
    },
    {
      "cell_type": "markdown",
      "source": [
        "$$S_T \\geq S_0$$\n",
        "$$\\implies ln(\\frac{S_T}{S_0}) \\geq 0$$\n",
        "$$\\implies W_t \\geq - \\frac{T}{\\sigma}(\\mu-\\frac{\\sigma^2}{2})$$\n",
        "\n",
        "So the required probability is:"
      ],
      "metadata": {
        "id": "0PT3hgTqaWO7"
      }
    },
    {
      "cell_type": "code",
      "source": [
        "ans = norm.cdf(T/sigma*(mu-sigma**2/2))\n",
        "print(ans)"
      ],
      "metadata": {
        "id": "VnelFWpmbAHq",
        "outputId": "c3502a0e-8002-4cf3-e804-cd55e1891924",
        "colab": {
          "base_uri": "https://localhost:8080/"
        }
      },
      "execution_count": 18,
      "outputs": [
        {
          "output_type": "stream",
          "name": "stdout",
          "text": [
            "0.5166177864903634\n"
          ]
        }
      ]
    },
    {
      "cell_type": "code",
      "source": [],
      "metadata": {
        "id": "9REFxcDSbFA5"
      },
      "execution_count": null,
      "outputs": []
    },
    {
      "cell_type": "markdown",
      "source": [
        "### Q10"
      ],
      "metadata": {
        "id": "jNnyUfk9bPmg"
      }
    },
    {
      "cell_type": "code",
      "source": [
        "r = 0.07\n",
        "p_profit = 1-ans\n",
        "price = p_profit*1*np.exp(-r*T)"
      ],
      "metadata": {
        "id": "3sDqB6XmbQxT"
      },
      "execution_count": 19,
      "outputs": []
    },
    {
      "cell_type": "code",
      "source": [
        "print(price)"
      ],
      "metadata": {
        "id": "5eNKB45AcPNO",
        "outputId": "e332842a-1d43-4d00-884a-8b5674811f57",
        "colab": {
          "base_uri": "https://localhost:8080/"
        }
      },
      "execution_count": 20,
      "outputs": [
        {
          "output_type": "stream",
          "name": "stdout",
          "text": [
            "0.4667564834874765\n"
          ]
        }
      ]
    },
    {
      "cell_type": "code",
      "source": [],
      "metadata": {
        "id": "_ukvUUxecQW0"
      },
      "execution_count": null,
      "outputs": []
    }
  ],
  "metadata": {
    "kernelspec": {
      "display_name": "Python 3",
      "language": "python",
      "name": "python3"
    },
    "language_info": {
      "codemirror_mode": {
        "name": "ipython",
        "version": 3
      },
      "file_extension": ".py",
      "mimetype": "text/x-python",
      "name": "python",
      "nbconvert_exporter": "python",
      "pygments_lexer": "ipython3",
      "version": "3.7.3"
    },
    "colab": {
      "provenance": [],
      "include_colab_link": true
    }
  },
  "nbformat": 4,
  "nbformat_minor": 0
}